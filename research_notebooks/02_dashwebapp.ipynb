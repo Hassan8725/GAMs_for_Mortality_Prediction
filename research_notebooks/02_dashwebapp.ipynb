{
 "cells": [
  {
   "cell_type": "markdown",
   "metadata": {
    "slideshow": {
     "slide_type": "slide"
    }
   },
   "source": [
    "# Interactive Web application with Dash\n",
    "\n",
    "Authors: Prof. med. Thomas Ganslandt <Thomas.Ganslandt@medma.uni-heidelberg.de> <br>\n",
    "and Kim Hee <HeeEun.Kim@medma.uni-heidelberg.de> <br>\n",
    "Heinrich-Lanz-Center for Digital Health (HLZ) of the Medical Faculty Mannheim <br>\n",
    "Heidelberg University\n",
    "\n",
    "This tutorial is prepared for TMF summer school on 03.07.2019\n",
    "\n",
    "## Prerequisite: MIMIC-III files locally\n",
    "\n",
    "You should place the following MIMIC-III data files in the data/ subfolder:\n",
    "\n",
    "* D_LABITEMS.csv\n",
    "* LABEVENTS.csv\n",
    "* PRESCRIPTIONS.csv"
   ]
  },
  {
   "cell_type": "markdown",
   "metadata": {
    "slideshow": {
     "slide_type": "subslide"
    }
   },
   "source": [
    "### Dash\n",
    "* https://dash.plot.ly/gallery <br>\n",
    "* Dash is a Python framework for creating data-driven web applications <br>\n",
    "* Dash apps are written on top of Flask, Plotly, and React\n",
    " * Flask is a Python web framework\n",
    " * Plotly is specifically a charting library built on top of D3.js\n",
    " * React is a JavaScript library for building user interfaces maintained by Facebook and a community "
   ]
  },
  {
   "cell_type": "markdown",
   "metadata": {
    "slideshow": {
     "slide_type": "subslide"
    }
   },
   "source": [
    "## Case Study 2: Labitems Trend Visualization\n",
    "[Trend analysis](https://en.wikipedia.org/wiki/Trend_analysis) is the widespread practice of collecting information and attempting to spot a pattern. This case study will illustrate a drug reaction of a sepsis patient. This case study tracks the biomarker and prescription history of patient 41976. It visualizes the relation between two key biomarkers of sepsis (White Blood Cells and Neutrophils) and \n",
    "\n",
    "* '41976' patient is choosen for this case study because this patient contains most and interesting records among other sepsis patients '10006', '10013', '10036', '10056', '40601'"
   ]
  },
  {
   "cell_type": "markdown",
   "metadata": {
    "slideshow": {
     "slide_type": "subslide"
    }
   },
   "source": [
    "### Import Python pakages (1/6)"
   ]
  },
  {
   "cell_type": "code",
   "execution_count": 1,
   "metadata": {},
   "outputs": [],
   "source": [
    "# # Dash packages installation\n",
    "# !conda install -c conda-forge dash-renderer -y\n",
    "# !conda install -c conda-forge dash -y\n",
    "# !conda install -c conda-forge dash-html-components -y\n",
    "# !conda install -c conda-forge dash-core-components -y\n",
    "# !conda install -c conda-forge plotly -y"
   ]
  },
  {
   "cell_type": "code",
   "execution_count": 2,
   "metadata": {
    "scrolled": true,
    "slideshow": {
     "slide_type": "fragment"
    }
   },
   "outputs": [
    {
     "name": "stderr",
     "output_type": "stream",
     "text": [
      "C:\\Users\\hassa\\AppData\\Local\\Temp\\ipykernel_18644\\2284574985.py:2: UserWarning: \n",
      "The dash_core_components package is deprecated. Please replace\n",
      "`import dash_core_components as dcc` with `from dash import dcc`\n",
      "  import dash_core_components as dcc\n",
      "C:\\Users\\hassa\\AppData\\Local\\Temp\\ipykernel_18644\\2284574985.py:3: UserWarning: \n",
      "The dash_html_components package is deprecated. Please replace\n",
      "`import dash_html_components as html` with `from dash import html`\n",
      "  import dash_html_components as html\n"
     ]
    }
   ],
   "source": [
    "import dash\n",
    "import dash_core_components as dcc\n",
    "import dash_html_components as html\n",
    "import flask\n",
    "from dash.dependencies import Input, Output\n",
    "import plotly.graph_objs as go\n",
    "import numpy as np\n",
    "import pandas as pd\n",
    "import psycopg2\n",
    "import getpass\n",
    "pd.set_option('display.max_columns', 999)\n",
    "import pandas.io.sql as psql"
   ]
  },
  {
   "cell_type": "markdown",
   "metadata": {
    "slideshow": {
     "slide_type": "subslide"
    }
   },
   "source": [
    "### Data collection (2/6)\n",
    "* Query `d_labitems` table (Dictionary table for mapping)\n",
    "* Query `labevents` table (History of the labitem order)\n",
    "* Join two tables\n",
    "* Query `prescriptions` table (History of the prscription order)"
   ]
  },
  {
   "cell_type": "code",
   "execution_count": 3,
   "metadata": {},
   "outputs": [],
   "source": [
    "# Create a database connection\n",
    "user = 'postgres'\n",
    "host = 'localhost'\n",
    "dbname = 'mimic'\n",
    "schema = 'mimiciii'\n",
    "\n",
    "# Connect to the database\n",
    "con = psycopg2.connect(dbname=dbname, user=user, host=host, \n",
    "                       password=getpass.getpass(prompt='Password:'.format(user)))\n",
    "cur = con.cursor()\n",
    "cur.execute('SET search_path to {}'.format(schema))"
   ]
  },
  {
   "cell_type": "code",
   "execution_count": 8,
   "metadata": {},
   "outputs": [
    {
     "name": "stderr",
     "output_type": "stream",
     "text": [
      "C:\\Users\\hassa\\AppData\\Local\\Temp\\ipykernel_18644\\287491463.py:7: UserWarning: pandas only supports SQLAlchemy connectable (engine/connection) or database string URI or sqlite3 DBAPI2 connection. Other DBAPI2 objects are not tested. Please consider using SQLAlchemy.\n",
      "  d_lab = pd.read_sql_query(query,con)\n",
      "C:\\Users\\hassa\\AppData\\Local\\Temp\\ipykernel_18644\\287491463.py:15: UserWarning: pandas only supports SQLAlchemy connectable (engine/connection) or database string URI or sqlite3 DBAPI2 connection. Other DBAPI2 objects are not tested. Please consider using SQLAlchemy.\n",
      "  lab = pd.read_sql_query(query_2,con)\n"
     ]
    }
   ],
   "source": [
    "query = \\\n",
    "\"\"\"\n",
    "SELECT *\n",
    "FROM D_LABITEMS limit 500;\n",
    "\"\"\"\n",
    "\n",
    "d_lab = pd.read_sql_query(query,con)\n",
    "\n",
    "query_2 = \\\n",
    "\"\"\"\n",
    "SELECT *\n",
    "FROM LABEVENTS limit 500;\n",
    "\"\"\"\n",
    "\n",
    "lab = pd.read_sql_query(query_2,con)"
   ]
  },
  {
   "cell_type": "code",
   "execution_count": 9,
   "metadata": {},
   "outputs": [
    {
     "data": {
      "text/html": [
       "<div>\n",
       "<style scoped>\n",
       "    .dataframe tbody tr th:only-of-type {\n",
       "        vertical-align: middle;\n",
       "    }\n",
       "\n",
       "    .dataframe tbody tr th {\n",
       "        vertical-align: top;\n",
       "    }\n",
       "\n",
       "    .dataframe thead th {\n",
       "        text-align: right;\n",
       "    }\n",
       "</style>\n",
       "<table border=\"1\" class=\"dataframe\">\n",
       "  <thead>\n",
       "    <tr style=\"text-align: right;\">\n",
       "      <th></th>\n",
       "      <th>row_id</th>\n",
       "      <th>subject_id</th>\n",
       "      <th>hadm_id</th>\n",
       "      <th>itemid</th>\n",
       "      <th>charttime</th>\n",
       "      <th>value</th>\n",
       "      <th>valuenum</th>\n",
       "      <th>valueuom</th>\n",
       "      <th>flag</th>\n",
       "    </tr>\n",
       "  </thead>\n",
       "  <tbody>\n",
       "    <tr>\n",
       "      <th>0</th>\n",
       "      <td>281</td>\n",
       "      <td>3</td>\n",
       "      <td>NaN</td>\n",
       "      <td>50820</td>\n",
       "      <td>2101-10-12 16:07:00</td>\n",
       "      <td>7.39</td>\n",
       "      <td>7.39</td>\n",
       "      <td>units</td>\n",
       "      <td>None</td>\n",
       "    </tr>\n",
       "    <tr>\n",
       "      <th>1</th>\n",
       "      <td>282</td>\n",
       "      <td>3</td>\n",
       "      <td>NaN</td>\n",
       "      <td>50800</td>\n",
       "      <td>2101-10-12 18:17:00</td>\n",
       "      <td>ART</td>\n",
       "      <td>NaN</td>\n",
       "      <td>None</td>\n",
       "      <td>None</td>\n",
       "    </tr>\n",
       "    <tr>\n",
       "      <th>2</th>\n",
       "      <td>283</td>\n",
       "      <td>3</td>\n",
       "      <td>NaN</td>\n",
       "      <td>50802</td>\n",
       "      <td>2101-10-12 18:17:00</td>\n",
       "      <td>-1</td>\n",
       "      <td>-1.00</td>\n",
       "      <td>mEq/L</td>\n",
       "      <td>None</td>\n",
       "    </tr>\n",
       "    <tr>\n",
       "      <th>3</th>\n",
       "      <td>284</td>\n",
       "      <td>3</td>\n",
       "      <td>NaN</td>\n",
       "      <td>50804</td>\n",
       "      <td>2101-10-12 18:17:00</td>\n",
       "      <td>22</td>\n",
       "      <td>22.00</td>\n",
       "      <td>mEq/L</td>\n",
       "      <td>None</td>\n",
       "    </tr>\n",
       "    <tr>\n",
       "      <th>4</th>\n",
       "      <td>285</td>\n",
       "      <td>3</td>\n",
       "      <td>NaN</td>\n",
       "      <td>50808</td>\n",
       "      <td>2101-10-12 18:17:00</td>\n",
       "      <td>0.93</td>\n",
       "      <td>0.93</td>\n",
       "      <td>mmol/L</td>\n",
       "      <td>abnormal</td>\n",
       "    </tr>\n",
       "  </tbody>\n",
       "</table>\n",
       "</div>"
      ],
      "text/plain": [
       "   row_id  subject_id  hadm_id  itemid           charttime value  valuenum  \\\n",
       "0     281           3      NaN   50820 2101-10-12 16:07:00  7.39      7.39   \n",
       "1     282           3      NaN   50800 2101-10-12 18:17:00   ART       NaN   \n",
       "2     283           3      NaN   50802 2101-10-12 18:17:00    -1     -1.00   \n",
       "3     284           3      NaN   50804 2101-10-12 18:17:00    22     22.00   \n",
       "4     285           3      NaN   50808 2101-10-12 18:17:00  0.93      0.93   \n",
       "\n",
       "  valueuom      flag  \n",
       "0    units      None  \n",
       "1     None      None  \n",
       "2    mEq/L      None  \n",
       "3    mEq/L      None  \n",
       "4   mmol/L  abnormal  "
      ]
     },
     "execution_count": 9,
     "metadata": {},
     "output_type": "execute_result"
    }
   ],
   "source": [
    "lab.head()"
   ]
  },
  {
   "cell_type": "code",
   "execution_count": 10,
   "metadata": {},
   "outputs": [
    {
     "name": "stdout",
     "output_type": "stream",
     "text": [
      "Index(['itemid', 'label', 'fluid', 'category', 'loinc_code', 'subject_id',\n",
      "       'hadm_id', 'charttime', 'value', 'valuenum', 'valueuom', 'flag'],\n",
      "      dtype='object')\n"
     ]
    },
    {
     "data": {
      "text/html": [
       "<div>\n",
       "<style scoped>\n",
       "    .dataframe tbody tr th:only-of-type {\n",
       "        vertical-align: middle;\n",
       "    }\n",
       "\n",
       "    .dataframe tbody tr th {\n",
       "        vertical-align: top;\n",
       "    }\n",
       "\n",
       "    .dataframe thead th {\n",
       "        text-align: right;\n",
       "    }\n",
       "</style>\n",
       "<table border=\"1\" class=\"dataframe\">\n",
       "  <thead>\n",
       "    <tr style=\"text-align: right;\">\n",
       "      <th></th>\n",
       "      <th>subject_id</th>\n",
       "      <th>hadm_id</th>\n",
       "      <th>itemid</th>\n",
       "      <th>label</th>\n",
       "      <th>value</th>\n",
       "    </tr>\n",
       "  </thead>\n",
       "  <tbody>\n",
       "    <tr>\n",
       "      <th>0</th>\n",
       "      <td>3</td>\n",
       "      <td>NaN</td>\n",
       "      <td>51463</td>\n",
       "      <td>Bacteria</td>\n",
       "      <td>NONE</td>\n",
       "    </tr>\n",
       "    <tr>\n",
       "      <th>1</th>\n",
       "      <td>3</td>\n",
       "      <td>NaN</td>\n",
       "      <td>51464</td>\n",
       "      <td>Bilirubin</td>\n",
       "      <td>NEG</td>\n",
       "    </tr>\n",
       "    <tr>\n",
       "      <th>2</th>\n",
       "      <td>3</td>\n",
       "      <td>NaN</td>\n",
       "      <td>51464</td>\n",
       "      <td>Bilirubin</td>\n",
       "      <td>NEG</td>\n",
       "    </tr>\n",
       "    <tr>\n",
       "      <th>3</th>\n",
       "      <td>3</td>\n",
       "      <td>NaN</td>\n",
       "      <td>51466</td>\n",
       "      <td>Blood</td>\n",
       "      <td>SM</td>\n",
       "    </tr>\n",
       "    <tr>\n",
       "      <th>4</th>\n",
       "      <td>3</td>\n",
       "      <td>NaN</td>\n",
       "      <td>51466</td>\n",
       "      <td>Blood</td>\n",
       "      <td>NEG</td>\n",
       "    </tr>\n",
       "  </tbody>\n",
       "</table>\n",
       "</div>"
      ],
      "text/plain": [
       "   subject_id  hadm_id  itemid      label value\n",
       "0           3      NaN   51463   Bacteria  NONE\n",
       "1           3      NaN   51464  Bilirubin   NEG\n",
       "2           3      NaN   51464  Bilirubin   NEG\n",
       "3           3      NaN   51466      Blood    SM\n",
       "4           3      NaN   51466      Blood   NEG"
      ]
     },
     "execution_count": 10,
     "metadata": {},
     "output_type": "execute_result"
    }
   ],
   "source": [
    "d_lab.columns = map(str.lower, d_lab.columns)\n",
    "d_lab.drop(columns = ['row_id'], inplace = True)\n",
    "\n",
    "lab.columns = map(str.lower, lab.columns)\n",
    "#lab = lab[lab['subject_id'] == 41976]\n",
    "lab.drop(columns = ['row_id'], inplace = True)\n",
    "\n",
    "lab = pd.merge(d_lab, lab, on = 'itemid', how = 'inner')\n",
    "print(lab.columns)\n",
    "lab[['subject_id', 'hadm_id', 'itemid', 'label', 'value']].head()"
   ]
  },
  {
   "cell_type": "code",
   "execution_count": 12,
   "metadata": {},
   "outputs": [
    {
     "name": "stdout",
     "output_type": "stream",
     "text": [
      "Index(['subject_id', 'hadm_id', 'icustay_id', 'startdate', 'enddate',\n",
      "       'drug_type', 'drug', 'drug_name_poe', 'drug_name_generic',\n",
      "       'formulary_drug_cd', 'gsn', 'ndc', 'prod_strength', 'dose_val_rx',\n",
      "       'dose_unit_rx', 'form_val_disp', 'form_unit_disp', 'route'],\n",
      "      dtype='object')\n"
     ]
    },
    {
     "name": "stderr",
     "output_type": "stream",
     "text": [
      "C:\\Users\\hassa\\AppData\\Local\\Temp\\ipykernel_18644\\49138670.py:7: UserWarning: pandas only supports SQLAlchemy connectable (engine/connection) or database string URI or sqlite3 DBAPI2 connection. Other DBAPI2 objects are not tested. Please consider using SQLAlchemy.\n",
      "  presc = pd.read_sql_query(query_3,con)\n"
     ]
    },
    {
     "data": {
      "text/html": [
       "<div>\n",
       "<style scoped>\n",
       "    .dataframe tbody tr th:only-of-type {\n",
       "        vertical-align: middle;\n",
       "    }\n",
       "\n",
       "    .dataframe tbody tr th {\n",
       "        vertical-align: top;\n",
       "    }\n",
       "\n",
       "    .dataframe thead th {\n",
       "        text-align: right;\n",
       "    }\n",
       "</style>\n",
       "<table border=\"1\" class=\"dataframe\">\n",
       "  <thead>\n",
       "    <tr style=\"text-align: right;\">\n",
       "      <th></th>\n",
       "      <th>subject_id</th>\n",
       "      <th>hadm_id</th>\n",
       "      <th>icustay_id</th>\n",
       "      <th>drug</th>\n",
       "    </tr>\n",
       "  </thead>\n",
       "  <tbody>\n",
       "    <tr>\n",
       "      <th>0</th>\n",
       "      <td>6</td>\n",
       "      <td>107064</td>\n",
       "      <td>NaN</td>\n",
       "      <td>Tacrolimus</td>\n",
       "    </tr>\n",
       "    <tr>\n",
       "      <th>1</th>\n",
       "      <td>6</td>\n",
       "      <td>107064</td>\n",
       "      <td>NaN</td>\n",
       "      <td>Warfarin</td>\n",
       "    </tr>\n",
       "    <tr>\n",
       "      <th>2</th>\n",
       "      <td>6</td>\n",
       "      <td>107064</td>\n",
       "      <td>NaN</td>\n",
       "      <td>Heparin Sodium</td>\n",
       "    </tr>\n",
       "    <tr>\n",
       "      <th>3</th>\n",
       "      <td>6</td>\n",
       "      <td>107064</td>\n",
       "      <td>NaN</td>\n",
       "      <td>D5W</td>\n",
       "    </tr>\n",
       "    <tr>\n",
       "      <th>4</th>\n",
       "      <td>6</td>\n",
       "      <td>107064</td>\n",
       "      <td>NaN</td>\n",
       "      <td>Furosemide</td>\n",
       "    </tr>\n",
       "  </tbody>\n",
       "</table>\n",
       "</div>"
      ],
      "text/plain": [
       "   subject_id  hadm_id  icustay_id            drug\n",
       "0           6   107064         NaN      Tacrolimus\n",
       "1           6   107064         NaN        Warfarin\n",
       "2           6   107064         NaN  Heparin Sodium\n",
       "3           6   107064         NaN             D5W\n",
       "4           6   107064         NaN      Furosemide"
      ]
     },
     "execution_count": 12,
     "metadata": {},
     "output_type": "execute_result"
    }
   ],
   "source": [
    "query_3 = \\\n",
    "\"\"\"\n",
    "SELECT *\n",
    "FROM PRESCRIPTIONS limit 500;\n",
    "\"\"\"\n",
    "\n",
    "presc = pd.read_sql_query(query_3,con)\n",
    "\n",
    "#presc = pd.read_csv(\"data/PRESCRIPTIONS.csv\")\n",
    "presc.columns = map(str.lower, presc.columns)\n",
    "#presc = presc[presc['subject_id'] == 41976]\n",
    "presc.drop(columns = ['row_id'], inplace = True)\n",
    "print(presc.columns)\n",
    "presc[['subject_id', 'hadm_id', 'icustay_id', 'drug']].head()"
   ]
  },
  {
   "cell_type": "markdown",
   "metadata": {
    "slideshow": {
     "slide_type": "subslide"
    }
   },
   "source": [
    "###  Data preparation for labevents table (3/6)\n",
    "* Convert data type to datetime and extract only year value "
   ]
  },
  {
   "cell_type": "code",
   "execution_count": 13,
   "metadata": {
    "slideshow": {
     "slide_type": "fragment"
    }
   },
   "outputs": [
    {
     "data": {
      "text/html": [
       "<div>\n",
       "<style scoped>\n",
       "    .dataframe tbody tr th:only-of-type {\n",
       "        vertical-align: middle;\n",
       "    }\n",
       "\n",
       "    .dataframe tbody tr th {\n",
       "        vertical-align: top;\n",
       "    }\n",
       "\n",
       "    .dataframe thead th {\n",
       "        text-align: right;\n",
       "    }\n",
       "</style>\n",
       "<table border=\"1\" class=\"dataframe\">\n",
       "  <thead>\n",
       "    <tr style=\"text-align: right;\">\n",
       "      <th></th>\n",
       "      <th>itemid</th>\n",
       "      <th>label</th>\n",
       "      <th>fluid</th>\n",
       "      <th>category</th>\n",
       "      <th>loinc_code</th>\n",
       "      <th>subject_id</th>\n",
       "      <th>hadm_id</th>\n",
       "      <th>value</th>\n",
       "      <th>valuenum</th>\n",
       "      <th>valueuom</th>\n",
       "      <th>flag</th>\n",
       "    </tr>\n",
       "    <tr>\n",
       "      <th>charttime</th>\n",
       "      <th></th>\n",
       "      <th></th>\n",
       "      <th></th>\n",
       "      <th></th>\n",
       "      <th></th>\n",
       "      <th></th>\n",
       "      <th></th>\n",
       "      <th></th>\n",
       "      <th></th>\n",
       "      <th></th>\n",
       "      <th></th>\n",
       "    </tr>\n",
       "  </thead>\n",
       "  <tbody>\n",
       "    <tr>\n",
       "      <th>2101-10-12 16:07:00</th>\n",
       "      <td>50820</td>\n",
       "      <td>pH</td>\n",
       "      <td>Blood</td>\n",
       "      <td>Blood Gas</td>\n",
       "      <td>11558-4</td>\n",
       "      <td>3</td>\n",
       "      <td>NaN</td>\n",
       "      <td>7.39</td>\n",
       "      <td>7.39</td>\n",
       "      <td>units</td>\n",
       "      <td>None</td>\n",
       "    </tr>\n",
       "  </tbody>\n",
       "</table>\n",
       "</div>"
      ],
      "text/plain": [
       "                     itemid label  fluid   category loinc_code  subject_id  \\\n",
       "charttime                                                                    \n",
       "2101-10-12 16:07:00   50820    pH  Blood  Blood Gas    11558-4           3   \n",
       "\n",
       "                     hadm_id value  valuenum valueuom  flag  \n",
       "charttime                                                    \n",
       "2101-10-12 16:07:00      NaN  7.39      7.39    units  None  "
      ]
     },
     "execution_count": 13,
     "metadata": {},
     "output_type": "execute_result"
    }
   ],
   "source": [
    "lab['charttime'] = pd.to_datetime(lab['charttime'], errors = 'coerce')\n",
    "lab.sort_values(by='charttime', inplace=True)\n",
    "lab.set_index('charttime', inplace = True)\n",
    "lab.head(1)"
   ]
  },
  {
   "cell_type": "markdown",
   "metadata": {
    "slideshow": {
     "slide_type": "subslide"
    }
   },
   "source": [
    "###  Data preparation for prescriptions table (4/6)\n",
    "* Filter conditions:\n",
    " * unit: 'mg'\n",
    " * antibiotics medicines: ('Vancomycin','Meropenem','Levofloxacin')\n",
    "* Contruct a normalized dose column\n",
    "* Convert data type to datetime and extract only year value "
   ]
  },
  {
   "cell_type": "code",
   "execution_count": 14,
   "metadata": {
    "slideshow": {
     "slide_type": "fragment"
    }
   },
   "outputs": [
    {
     "name": "stderr",
     "output_type": "stream",
     "text": [
      "C:\\Users\\hassa\\AppData\\Local\\Temp\\ipykernel_18644\\1064048487.py:8: SettingWithCopyWarning: \n",
      "A value is trying to be set on a copy of a slice from a DataFrame.\n",
      "Try using .loc[row_indexer,col_indexer] = value instead\n",
      "\n",
      "See the caveats in the documentation: https://pandas.pydata.org/pandas-docs/stable/user_guide/indexing.html#returning-a-view-versus-a-copy\n",
      "  temp['norm_size'] = temp['dose_val_rx'] / temp['dose_val_rx'].max()\n"
     ]
    },
    {
     "ename": "AttributeError",
     "evalue": "'DataFrame' object has no attribute 'append'",
     "output_type": "error",
     "traceback": [
      "\u001b[1;31m---------------------------------------------------------------------------\u001b[0m",
      "\u001b[1;31mAttributeError\u001b[0m                            Traceback (most recent call last)",
      "\u001b[1;32m~\\AppData\\Local\\Temp\\ipykernel_18644\\1064048487.py\u001b[0m in \u001b[0;36m?\u001b[1;34m()\u001b[0m\n\u001b[0;32m      5\u001b[0m \u001b[0mtemp_df\u001b[0m \u001b[1;33m=\u001b[0m \u001b[0mpd\u001b[0m\u001b[1;33m.\u001b[0m\u001b[0mDataFrame\u001b[0m\u001b[1;33m(\u001b[0m\u001b[1;33m)\u001b[0m\u001b[1;33m\u001b[0m\u001b[1;33m\u001b[0m\u001b[0m\n\u001b[0;32m      6\u001b[0m \u001b[1;32mfor\u001b[0m \u001b[0mitem\u001b[0m \u001b[1;32min\u001b[0m \u001b[0mpresc\u001b[0m\u001b[1;33m.\u001b[0m\u001b[0mdrug\u001b[0m\u001b[1;33m.\u001b[0m\u001b[0munique\u001b[0m\u001b[1;33m(\u001b[0m\u001b[1;33m)\u001b[0m\u001b[1;33m:\u001b[0m\u001b[1;33m\u001b[0m\u001b[1;33m\u001b[0m\u001b[0m\n\u001b[0;32m      7\u001b[0m     \u001b[0mtemp\u001b[0m \u001b[1;33m=\u001b[0m \u001b[0mpresc\u001b[0m\u001b[1;33m[\u001b[0m\u001b[0mpresc\u001b[0m\u001b[1;33m[\u001b[0m\u001b[1;34m'drug'\u001b[0m\u001b[1;33m]\u001b[0m\u001b[1;33m.\u001b[0m\u001b[0mstr\u001b[0m\u001b[1;33m.\u001b[0m\u001b[0mcontains\u001b[0m\u001b[1;33m(\u001b[0m\u001b[0mitem\u001b[0m\u001b[1;33m)\u001b[0m\u001b[1;33m]\u001b[0m\u001b[1;33m\u001b[0m\u001b[1;33m\u001b[0m\u001b[0m\n\u001b[0;32m      8\u001b[0m     \u001b[0mtemp\u001b[0m\u001b[1;33m[\u001b[0m\u001b[1;34m'norm_size'\u001b[0m\u001b[1;33m]\u001b[0m \u001b[1;33m=\u001b[0m \u001b[0mtemp\u001b[0m\u001b[1;33m[\u001b[0m\u001b[1;34m'dose_val_rx'\u001b[0m\u001b[1;33m]\u001b[0m \u001b[1;33m/\u001b[0m \u001b[0mtemp\u001b[0m\u001b[1;33m[\u001b[0m\u001b[1;34m'dose_val_rx'\u001b[0m\u001b[1;33m]\u001b[0m\u001b[1;33m.\u001b[0m\u001b[0mmax\u001b[0m\u001b[1;33m(\u001b[0m\u001b[1;33m)\u001b[0m\u001b[1;33m\u001b[0m\u001b[1;33m\u001b[0m\u001b[0m\n\u001b[1;32m----> 9\u001b[1;33m     \u001b[0mtemp_df\u001b[0m \u001b[1;33m=\u001b[0m \u001b[0mtemp_df\u001b[0m\u001b[1;33m.\u001b[0m\u001b[0mappend\u001b[0m\u001b[1;33m(\u001b[0m\u001b[0mtemp\u001b[0m\u001b[1;33m)\u001b[0m\u001b[1;33m\u001b[0m\u001b[1;33m\u001b[0m\u001b[0m\n\u001b[0m\u001b[0;32m     10\u001b[0m \u001b[0mpresc\u001b[0m \u001b[1;33m=\u001b[0m \u001b[0mpd\u001b[0m\u001b[1;33m.\u001b[0m\u001b[0mmerge\u001b[0m\u001b[1;33m(\u001b[0m\u001b[0mpresc\u001b[0m\u001b[1;33m,\u001b[0m \u001b[0mtemp_df\u001b[0m\u001b[1;33m,\u001b[0m \u001b[0mon\u001b[0m\u001b[1;33m=\u001b[0m\u001b[0mlist\u001b[0m\u001b[1;33m(\u001b[0m\u001b[0mpresc\u001b[0m\u001b[1;33m.\u001b[0m\u001b[0mcolumns\u001b[0m\u001b[1;33m)\u001b[0m\u001b[1;33m)\u001b[0m\u001b[1;33m\u001b[0m\u001b[1;33m\u001b[0m\u001b[0m\n\u001b[0;32m     11\u001b[0m \u001b[1;33m\u001b[0m\u001b[0m\n\u001b[0;32m     12\u001b[0m \u001b[0mpresc\u001b[0m\u001b[1;33m[\u001b[0m\u001b[1;34m'startdate'\u001b[0m\u001b[1;33m]\u001b[0m \u001b[1;33m=\u001b[0m \u001b[0mpd\u001b[0m\u001b[1;33m.\u001b[0m\u001b[0mto_datetime\u001b[0m\u001b[1;33m(\u001b[0m\u001b[0mpresc\u001b[0m\u001b[1;33m[\u001b[0m\u001b[1;34m'startdate'\u001b[0m\u001b[1;33m]\u001b[0m\u001b[1;33m,\u001b[0m \u001b[0merrors\u001b[0m \u001b[1;33m=\u001b[0m \u001b[1;34m'coerce'\u001b[0m\u001b[1;33m)\u001b[0m\u001b[1;33m\u001b[0m\u001b[1;33m\u001b[0m\u001b[0m\n",
      "\u001b[1;32mc:\\Users\\hassa\\GAMs_for_Mortality_Prediction\\.venv_thesis\\Lib\\site-packages\\pandas\\core\\generic.py\u001b[0m in \u001b[0;36m?\u001b[1;34m(self, name)\u001b[0m\n\u001b[0;32m   6295\u001b[0m             \u001b[1;32mand\u001b[0m \u001b[0mname\u001b[0m \u001b[1;32mnot\u001b[0m \u001b[1;32min\u001b[0m \u001b[0mself\u001b[0m\u001b[1;33m.\u001b[0m\u001b[0m_accessors\u001b[0m\u001b[1;33m\u001b[0m\u001b[1;33m\u001b[0m\u001b[0m\n\u001b[0;32m   6296\u001b[0m             \u001b[1;32mand\u001b[0m \u001b[0mself\u001b[0m\u001b[1;33m.\u001b[0m\u001b[0m_info_axis\u001b[0m\u001b[1;33m.\u001b[0m\u001b[0m_can_hold_identifiers_and_holds_name\u001b[0m\u001b[1;33m(\u001b[0m\u001b[0mname\u001b[0m\u001b[1;33m)\u001b[0m\u001b[1;33m\u001b[0m\u001b[1;33m\u001b[0m\u001b[0m\n\u001b[0;32m   6297\u001b[0m         \u001b[1;33m)\u001b[0m\u001b[1;33m:\u001b[0m\u001b[1;33m\u001b[0m\u001b[1;33m\u001b[0m\u001b[0m\n\u001b[0;32m   6298\u001b[0m             \u001b[1;32mreturn\u001b[0m \u001b[0mself\u001b[0m\u001b[1;33m[\u001b[0m\u001b[0mname\u001b[0m\u001b[1;33m]\u001b[0m\u001b[1;33m\u001b[0m\u001b[1;33m\u001b[0m\u001b[0m\n\u001b[1;32m-> 6299\u001b[1;33m         \u001b[1;32mreturn\u001b[0m \u001b[0mobject\u001b[0m\u001b[1;33m.\u001b[0m\u001b[0m__getattribute__\u001b[0m\u001b[1;33m(\u001b[0m\u001b[0mself\u001b[0m\u001b[1;33m,\u001b[0m \u001b[0mname\u001b[0m\u001b[1;33m)\u001b[0m\u001b[1;33m\u001b[0m\u001b[1;33m\u001b[0m\u001b[0m\n\u001b[0m",
      "\u001b[1;31mAttributeError\u001b[0m: 'DataFrame' object has no attribute 'append'"
     ]
    }
   ],
   "source": [
    "presc['dose_val_rx'] = pd.to_numeric(presc['dose_val_rx'], errors = 'coerce')\n",
    "presc = presc[presc['dose_unit_rx']=='mg']\n",
    "presc = presc[presc['drug'].isin(['Vancomycin','Meropenem','Levofloxacin'])]\n",
    "\n",
    "temp_df = pd.DataFrame()\n",
    "for item in presc.drug.unique():\n",
    "    temp = presc[presc['drug'].str.contains(item)]\n",
    "    temp['norm_size'] = temp['dose_val_rx'] / temp['dose_val_rx'].max()\n",
    "    temp_df = temp_df.append(temp)\n",
    "presc = pd.merge(presc, temp_df, on=list(presc.columns))\n",
    "\n",
    "presc['startdate'] = pd.to_datetime(presc['startdate'], errors = 'coerce')\n",
    "presc.sort_values(by='startdate', inplace=True)\n",
    "presc.set_index('startdate', inplace = True)\n",
    "presc.head(1)"
   ]
  },
  {
   "cell_type": "markdown",
   "metadata": {
    "slideshow": {
     "slide_type": "subslide"
    }
   },
   "source": [
    "###  Create a structure and presentation of your web with HTML and CSS (5/6)"
   ]
  },
  {
   "cell_type": "code",
   "execution_count": null,
   "metadata": {
    "scrolled": true,
    "slideshow": {
     "slide_type": "fragment"
    }
   },
   "outputs": [],
   "source": [
    "list_patient = ['41976']\n",
    "list_biomarker = ['White Blood Cells', 'Neutrophils']\n",
    "list_drug = ['Vancomycin','Meropenem','Levofloxacin']\n",
    "\n",
    "# stylesheets = ['./resources/bWLwgP.css']\n",
    "app = dash.Dash()\n",
    "\n",
    "app.layout = html.Div([\n",
    "\n",
    "    dcc.Dropdown(\n",
    "        id = 'patient',\n",
    "        value = '41976',\n",
    "        multi = False,\n",
    "        options = [{'label': i, 'value': i} for i in list_patient],\n",
    "    ),\n",
    "    dcc.Dropdown(\n",
    "        id = 'biomarker',\n",
    "        value = 'White Blood Cells',\n",
    "        multi = False,\n",
    "        options = [{'label': i, 'value': i} for i in list_biomarker],\n",
    "    ),\n",
    "    dcc.Dropdown(\n",
    "        id = 'drug',\n",
    "        value = ['Vancomycin'],\n",
    "        multi = True,\n",
    "        options = [{'label': i, 'value': i} for i in list_drug],\n",
    "    ),\n",
    "    dcc.Graph(id = 'graph'),\n",
    "])"
   ]
  },
  {
   "cell_type": "markdown",
   "metadata": {
    "slideshow": {
     "slide_type": "subslide"
    }
   },
   "source": [
    "###  Define the reactive behavior with Python (6/6)"
   ]
  },
  {
   "cell_type": "code",
   "execution_count": null,
   "metadata": {
    "scrolled": false,
    "slideshow": {
     "slide_type": "fragment"
    }
   },
   "outputs": [],
   "source": [
    "@app.callback(Output('graph', 'figure'), \n",
    "              [Input('patient', 'value'),\n",
    "               Input('biomarker', 'value'),\n",
    "               Input('drug', 'value')])\n",
    "def update_graph(patient, biomarker, drug):\n",
    "    traces = []\n",
    "    temp_l = lab[lab['subject_id'].astype(str) == patient]\n",
    "    temp_p = presc[presc['subject_id'].astype(str) == patient]\n",
    "    temp_min = 0\n",
    "    \n",
    "    item = biomarker\n",
    "    temp = temp_l[temp_l['label'] == item]\n",
    "    temp_min = float(temp.value.astype(float).min())\n",
    "    trace = go.Scatter(\n",
    "                x = temp.index,\n",
    "                y = temp.value,\n",
    "                name = item,\n",
    "                mode = 'lines+markers',\n",
    "            )\n",
    "    traces.append(trace)\n",
    "        \n",
    "    for i, item in enumerate(drug):\n",
    "        temp = temp_p[ temp_p['drug'] == item]\n",
    "        trace = go.Scatter(\n",
    "                    x = temp.index,\n",
    "                    y = np.ones((1, len(temp)))[0] * temp_min - i - 1,\n",
    "                    name = item,\n",
    "                    mode = 'markers',\n",
    "                    marker = {\n",
    "                        'size': temp.norm_size * 10\n",
    "                    }\n",
    "                )\n",
    "        traces.append(trace)\n",
    "    \n",
    "    layout = go.Layout(\n",
    "        legend = {'x': 0.5, 'y': -0.1, 'orientation': 'h', 'xanchor': 'center'},\n",
    "        margin = {'l': 300, 'b': 10, 't': 10, 'r': 300},\n",
    "        hovermode = 'closest',\n",
    "    )\n",
    "    return {'data': traces, 'layout': layout}"
   ]
  },
  {
   "cell_type": "code",
   "execution_count": null,
   "metadata": {},
   "outputs": [],
   "source": [
    "app.run_server(port = 8050)"
   ]
  },
  {
   "cell_type": "markdown",
   "metadata": {
    "slideshow": {
     "slide_type": "slide"
    }
   },
   "source": [
    "## Takeaway\n",
    "* Python is excellent for data science\n",
    " * Easy to analyze and visualize data\n",
    " * Quickly develop a data-driven web application"
   ]
  },
  {
   "cell_type": "markdown",
   "metadata": {
    "slideshow": {
     "slide_type": "slide"
    }
   },
   "source": [
    "## External Resources (1/2)\n",
    "* Introductory course of Python as a data analysis tool\n",
    " * Getting and Cleaning Data (Johns Hopkins University)\n",
    " * https://www.coursera.org/learn/data-cleaning#\n",
    "* Introductory course of Data Science \n",
    " * Foundations of Data Science — Spring 2016 (Berkeley University) \n",
    " * https://data-8.appspot.com/sp16/"
   ]
  },
  {
   "cell_type": "markdown",
   "metadata": {
    "slideshow": {
     "slide_type": "subslide"
    }
   },
   "source": [
    "## External Resources (2/2)\n",
    "* Docker\n",
    " * https://docs.docker.com/get-started/\n",
    " * deploy containerized instances\n",
    "* Kaggle: the largest and most diverse data community in the world\n",
    " * Competitions and take an advantage of using “Kernels”\n",
    " * www.kaggle.com/competitions\n",
    " * Example kernels:\n",
    "   * Can you improve lung cancer detection? (https://goo.gl/MV01o3)\n",
    "   * Transforming How We Diagnose Heart Disease (https://goo.gl/b9Rta1)\n",
    "   * Predict West Nile virus in mosquitos across the city of Chicago (https://goo.gl/VdVKtF)\n",
    "   * and more\n",
    "* Visualization examples\n",
    " * Matplotlib (https://matplotlib.org/gallery/index.html)\n",
    " * Plotly (https://plot.ly/python/)\n",
    "\n"
   ]
  },
  {
   "cell_type": "markdown",
   "metadata": {
    "slideshow": {
     "slide_type": "slide"
    }
   },
   "source": [
    "# Question?\n",
    "Authors: Prof. med. Thomas Ganslandt <Thomas.Ganslandt@medma.uni-heidelberg.de> <br>\n",
    "and Kim Hee <HeeEun.Kim@medma.uni-heidelberg.de> <br>\n",
    "\n",
    "Heinrich-Lanz-Center for Digital Health (HLZ) of the Medical Faculty Mannheim <br>\n",
    "Heidelberg University\n",
    "\n",
    "This is a part of a tutorial prepared for TMF summer school on 03.07.2019"
   ]
  }
 ],
 "metadata": {
  "celltoolbar": "Slideshow",
  "kernelspec": {
   "display_name": ".venv_thesis",
   "language": "python",
   "name": "python3"
  },
  "language_info": {
   "codemirror_mode": {
    "name": "ipython",
    "version": 3
   },
   "file_extension": ".py",
   "mimetype": "text/x-python",
   "name": "python",
   "nbconvert_exporter": "python",
   "pygments_lexer": "ipython3",
   "version": "3.12.3"
  },
  "nbTranslate": {
   "displayLangs": [
    "*"
   ],
   "hotkey": "alt-t",
   "langInMainMenu": true,
   "sourceLang": "en",
   "targetLang": "fr",
   "useGoogleTranslate": true
  },
  "toc": {
   "base_numbering": 1,
   "nav_menu": {},
   "number_sections": true,
   "sideBar": true,
   "skip_h1_title": false,
   "title_cell": "Table of Contents",
   "title_sidebar": "Contents",
   "toc_cell": false,
   "toc_position": {},
   "toc_section_display": true,
   "toc_window_display": false
  },
  "widgets": {
   "application/vnd.jupyter.widget-state+json": {
    "state": {},
    "version_major": 2,
    "version_minor": 0
   }
  }
 },
 "nbformat": 4,
 "nbformat_minor": 2
}
