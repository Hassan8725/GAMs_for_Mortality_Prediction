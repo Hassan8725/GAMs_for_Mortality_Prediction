{
 "cells": [
  {
   "cell_type": "markdown",
   "metadata": {},
   "source": [
    "MIMIC-III patient population by critical care unit"
   ]
  },
  {
   "cell_type": "code",
   "execution_count": 1,
   "metadata": {
    "collapsed": true
   },
   "outputs": [],
   "source": [
    "# Import libraries\n",
    "import numpy as np\n",
    "import pandas as pd\n",
    "import matplotlib.pyplot as plt\n",
    "import psycopg2\n",
    "%matplotlib inline\n",
    "\n",
    "import sys\n",
    "sys.path.append('../src') \n",
    "\n",
    "from data_pipeline.extractor import execute_query"
   ]
  },
  {
   "cell_type": "code",
   "execution_count": 34,
   "metadata": {
    "collapsed": true
   },
   "outputs": [],
   "source": [
    "# Config\n",
    "sqluser = 'postgres'\n",
    "dbname = 'mimic'\n",
    "schema_name = 'mimiciii'"
   ]
  },
  {
   "cell_type": "code",
   "execution_count": 43,
   "metadata": {
    "collapsed": false
   },
   "outputs": [],
   "source": [
    "# Connect to MIMIC\n",
    "con = psycopg2.connect(dbname=dbname, user=sqluser)\n",
    "cur = con.cursor()\n",
    "cur.execute('SET search_path to ' + schema_name)\n",
    "# cur.close()\n",
    "# con.close()"
   ]
  },
  {
   "cell_type": "markdown",
   "metadata": {},
   "source": [
    "### Patient characteristics\n",
    "\n",
    "How many charted observations are available for each hospitalization?"
   ]
  },
  {
   "cell_type": "code",
   "execution_count": 2,
   "metadata": {
    "collapsed": false
   },
   "outputs": [
    {
     "name": "stderr",
     "output_type": "stream",
     "text": [
      "c:\\Users\\hassa\\GAMs_for_Mortality_Prediction\\research_notebooks\\../src\\data_pipeline\\extractor.py:25: UserWarning: pandas only supports SQLAlchemy connectable (engine/connection) or database string URI or sqlite3 DBAPI2 connection. Other DBAPI2 objects are not tested. Please consider using SQLAlchemy.\n",
      "  result_df = pd.read_sql_query(query, con)\n"
     ]
    }
   ],
   "source": [
    "query = \\\n",
    "\"\"\"\n",
    "WITH chartobs AS (\n",
    "SELECT hadm_id, count(hadm_id) as obs\n",
    "FROM chartevents\n",
    "GROUP BY hadm_id)\n",
    "SELECT avg(obs)\n",
    "FROM chartobs;\n",
    "\"\"\"\n",
    "\n",
    "query_output = execute_query(query)\n",
    "print(query_output.head())"
   ]
  },
  {
   "cell_type": "markdown",
   "metadata": {},
   "source": [
    "How many laboratory measurements are available for each hospitalization?"
   ]
  },
  {
   "cell_type": "code",
   "execution_count": 39,
   "metadata": {
    "collapsed": false
   },
   "outputs": [
    {
     "name": "stdout",
     "output_type": "stream",
     "text": [
      "          avg\n",
      "0  380.592115\n"
     ]
    }
   ],
   "source": [
    "query = \\\n",
    "\"\"\"\n",
    "WITH labobs AS (\n",
    "SELECT hadm_id, count(hadm_id) as obs\n",
    "FROM labevents\n",
    "GROUP BY hadm_id)\n",
    "SELECT avg(obs)\n",
    "FROM labobs;\n",
    "\"\"\"\n",
    "\n",
    "query_output = pd.read_sql_query(query,con)\n",
    "print(query_output.head())"
   ]
  },
  {
   "cell_type": "markdown",
   "metadata": {},
   "source": [
    "These are the details that we would like to include in Table 2, grouped by first careunit:\n",
    "\n",
    "- Hospital admissions, no. (% of total admissions)\n",
    "- Distinct ICU stays, no. (% of total unit stays)\n",
    "- Age, yrs, mean ± SD\n",
    "- Gender, male, percent of unit stays\n",
    "- ICU length of stay, median days (IQR)\n",
    "- Hospital length of stay, median days (IQR)\n",
    "- ICU mortality, percent of unit stays\n",
    "- Hospital mortality, percent of unit stays"
   ]
  },
  {
   "cell_type": "markdown",
   "metadata": {},
   "source": [
    "### Extract and review the data"
   ]
  },
  {
   "cell_type": "code",
   "execution_count": 9,
   "metadata": {
    "collapsed": false
   },
   "outputs": [
    {
     "name": "stdout",
     "output_type": "stream",
     "text": [
      "   subject_id  hadm_id  icustay_id      hosp_admittime      hosp_dischtime  \\\n",
      "0           3   145834      211552 2101-10-20 19:08:00 2101-10-31 13:58:00   \n",
      "1           4   185777      294638 2191-03-16 00:28:00 2191-03-23 18:41:00   \n",
      "2           6   107064      228232 2175-05-30 07:15:00 2175-06-15 16:00:00   \n",
      "3           9   150750      220597 2149-11-09 13:06:00 2149-11-14 10:15:00   \n",
      "4          11   194540      229441 2178-04-16 06:18:00 2178-05-11 19:00:00   \n",
      "\n",
      "  first_careunit  icu_seq        dob        dod          icu_intime  \\\n",
      "0           MICU        1 2025-04-11 2102-06-14 2101-10-20 19:10:11   \n",
      "1           MICU        1 2143-05-12        NaT 2191-03-16 00:29:31   \n",
      "2           SICU        1 2109-06-21        NaT 2175-05-30 21:30:54   \n",
      "3           MICU        1 2108-01-26 2149-11-14 2149-11-09 13:07:02   \n",
      "4           SICU        1 2128-02-22 2178-11-14 2178-04-16 06:19:32   \n",
      "\n",
      "          icu_outtime  icu_los  hosp_los gender  age_hosp_in  age_icu_in  \\\n",
      "0 2101-10-26 20:43:09   6.0646   10.7847      M      76.5268     76.5268   \n",
      "1 2191-03-17 16:46:31   1.6785    7.7590      F      47.8450     47.8450   \n",
      "2 2175-06-03 13:39:54   3.6729   16.3646      F      65.9407     65.9423   \n",
      "3 2149-11-14 20:52:14   5.3231    4.8813      M      41.7902     41.7902   \n",
      "4 2178-04-17 20:21:05   1.5844   25.5292      F      50.1483     50.1483   \n",
      "\n",
      "   hospital_expire_flag  icu_expire_flag  \n",
      "0                     0                0  \n",
      "1                     0                0  \n",
      "2                     0                0  \n",
      "3                     1                1  \n",
      "4                     0                0  \n"
     ]
    }
   ],
   "source": [
    "# Join admissions, icustays, and patients tables\n",
    "\n",
    "query = \\\n",
    "\"\"\"\n",
    "WITH population as (\n",
    "SELECT a.subject_id, a.hadm_id, i.icustay_id, \n",
    "    a.admittime as hosp_admittime, a.dischtime as hosp_dischtime, \n",
    "    i.first_careunit, \n",
    "    DENSE_RANK() over(PARTITION BY a.hadm_id ORDER BY i.intime ASC) as icu_seq,\n",
    "    p.dob, p.dod, i.intime as icu_intime, i.outtime as icu_outtime, \n",
    "    i.los as icu_los,\n",
    "    round((EXTRACT(EPOCH FROM (a.dischtime-a.admittime))/60/60/24) :: NUMERIC, 4) as hosp_los, \n",
    "    p.gender, \n",
    "    round((EXTRACT(EPOCH FROM (a.admittime-p.dob))/60/60/24/365.242) :: NUMERIC, 4) as age_hosp_in,\n",
    "    round((EXTRACT(EPOCH FROM (i.intime-p.dob))/60/60/24/365.242) :: NUMERIC, 4) as age_icu_in,\n",
    "    hospital_expire_flag,\n",
    "    CASE WHEN p.dod IS NOT NULL \n",
    "        AND p.dod >= i.intime - interval '6 hour'\n",
    "        AND p.dod <= i.outtime + interval '6 hour' THEN 1 \n",
    "        ELSE 0 END AS icu_expire_flag\n",
    "FROM admissions a\n",
    "INNER JOIN icustays i\n",
    "ON a.hadm_id = i.hadm_id\n",
    "INNER JOIN patients p\n",
    "ON a.subject_id = p.subject_id\n",
    "ORDER BY a.subject_id, i.intime\n",
    ")\n",
    "SELECT *\n",
    "FROM population\n",
    "WHERE age_hosp_in >= 16;\n",
    "\"\"\"\n",
    "\n",
    "query_output = pd.read_sql_query(query,con)\n",
    "print(query_output.head())"
   ]
  },
  {
   "cell_type": "markdown",
   "metadata": {},
   "source": [
    "### Distinct patients, no. (% of total admissions)"
   ]
  },
  {
   "cell_type": "code",
   "execution_count": 10,
   "metadata": {
    "collapsed": false
   },
   "outputs": [
    {
     "name": "stdout",
     "output_type": "stream",
     "text": [
      "\n",
      "Total patients: 38597\n",
      "\n",
      "Number of patients by first careunit:\n",
      "\n",
      "first_careunit   CCU  CSRU   MICU  SICU  TSICU\n",
      "subject_id      5674  8091  13649  6372   4811\n",
      "\n",
      "Proportion of total hospital admissions:\n",
      "\n",
      "first_careunit        CCU       CSRU       MICU       SICU      TSICU\n",
      "subject_id      14.700624  20.962769  35.362852  16.509055  12.464699\n"
     ]
    }
   ],
   "source": [
    "print('\\nTotal patients: {}')\\\n",
    "    .format(len(query_output.subject_id.unique()))\n",
    "\n",
    "print('\\nNumber of patients by first careunit:\\n')\n",
    "print(query_output[['first_careunit','subject_id']] \\\n",
    "                    .drop_duplicates(['subject_id']) \\\n",
    "                    .groupby('first_careunit').count()).T\n",
    "    \n",
    "print('\\nProportion of total hospital admissions:\\n')\n",
    "print(query_output[['first_careunit','subject_id']] \\\n",
    "                    .drop_duplicates(['subject_id']) \\\n",
    "                    .groupby('first_careunit') \\\n",
    "                    .count()/len(query_output.subject_id.unique())*100).T"
   ]
  },
  {
   "cell_type": "markdown",
   "metadata": {},
   "source": [
    "### Hospital admissions, no. (% of total admissions)"
   ]
  },
  {
   "cell_type": "code",
   "execution_count": 11,
   "metadata": {
    "collapsed": false
   },
   "outputs": [
    {
     "name": "stdout",
     "output_type": "stream",
     "text": [
      "\n",
      "Total hospital admissions: 49785\n",
      "\n",
      "Number of hospital admissions by first careunit:\n",
      "\n",
      "first_careunit   CCU  CSRU   MICU  SICU  TSICU\n",
      "hadm_id         7258  9156  19770  8110   5491\n",
      "\n",
      "Proportion of total hospital admissions:\n",
      "\n",
      "first_careunit        CCU       CSRU       MICU       SICU      TSICU\n",
      "hadm_id         14.578688  18.391082  39.710756  16.290047  11.029427\n"
     ]
    }
   ],
   "source": [
    "print('\\nTotal hospital admissions: {}')\\\n",
    "    .format(len(query_output.hadm_id.unique()))\n",
    "\n",
    "print('\\nNumber of hospital admissions by first careunit:\\n')\n",
    "print(query_output[['first_careunit','hadm_id']] \\\n",
    "                    .drop_duplicates(['hadm_id']) \\\n",
    "                    .groupby('first_careunit').count()).T\n",
    "    \n",
    "print('\\nProportion of total hospital admissions:\\n')\n",
    "print(query_output[['first_careunit','hadm_id']] \\\n",
    "                    .drop_duplicates(['hadm_id']) \\\n",
    "                    .groupby('first_careunit') \\\n",
    "                    .count()/len(query_output.hadm_id.unique())*100).T"
   ]
  },
  {
   "cell_type": "markdown",
   "metadata": {},
   "source": [
    "### Distinct ICU stays, no. (% of total unit stays)"
   ]
  },
  {
   "cell_type": "code",
   "execution_count": 12,
   "metadata": {
    "collapsed": false
   },
   "outputs": [
    {
     "name": "stdout",
     "output_type": "stream",
     "text": [
      "\n",
      "Total ICU stays: 53423\n",
      "\n",
      "Number of ICU stays by careunit:\n",
      "\n",
      "first_careunit   CCU  CSRU   MICU  SICU  TSICU\n",
      "icustay_id      7726  9854  21087  8891   5865\n",
      "\n",
      "Proportion of total ICU stays:\n",
      "\n",
      "first_careunit        CCU       CSRU       MICU       SICU      TSICU\n",
      "icustay_id      14.461936  18.445239  39.471763  16.642645  10.978418\n"
     ]
    }
   ],
   "source": [
    "print('\\nTotal ICU stays: {}')\\\n",
    "    .format(len(query_output.icustay_id.unique()))\n",
    "\n",
    "print('\\nNumber of ICU stays by careunit:\\n')\n",
    "print(query_output[['first_careunit','icustay_id']] \\\n",
    "          .groupby('first_careunit').count()).T\n",
    "\n",
    "print('\\nProportion of total ICU stays:\\n')\n",
    "print(query_output[['first_careunit','icustay_id']] \\\n",
    "          .groupby('first_careunit') \\\n",
    "          .count()/len(query_output.icustay_id.unique())*100).T"
   ]
  },
  {
   "cell_type": "markdown",
   "metadata": {},
   "source": [
    "### Age, yrs, median ± IQR"
   ]
  },
  {
   "cell_type": "code",
   "execution_count": 13,
   "metadata": {
    "collapsed": false
   },
   "outputs": [
    {
     "name": "stdout",
     "output_type": "stream",
     "text": [
      "Median age, years: 65.769 \n",
      "Lower quartile age, years: 52.8361 \n",
      "Upper quartile age, years: 77.80005 \n",
      " \n",
      "Median age by careunit, years:\n",
      " \n",
      "first_careunit      CCU      CSRU     MICU     SICU    TSICU\n",
      "age_icu_in      70.5697  67.60415  64.9124  63.5819  59.8667\n",
      "\n",
      "Lower quartile by careunit, years:\n",
      " \n",
      "first_careunit       CCU       CSRU     MICU      SICU    TSICU\n",
      "age_icu_in      58.44555  57.606375  51.6559  51.44315  42.9378\n",
      "\n",
      "Upper quartile by careunit, years:\n",
      " \n",
      "first_careunit        CCU       CSRU      MICU     SICU    TSICU\n",
      "age_icu_in      80.541375  76.681425  78.17095  76.4575  75.6518\n"
     ]
    }
   ],
   "source": [
    "# Better to report median IQR because >89 appear as 300\n",
    "print('Median age, years: {} ').format(query_output.age_icu_in.median())\n",
    "print('Lower quartile age, years: {} ').format(query_output.age_icu_in.quantile(0.25))\n",
    "print('Upper quartile age, years: {} \\n ').format(query_output.age_icu_in.quantile(0.75))\n",
    "\n",
    "print('Median age by careunit, years:\\n ')\n",
    "print(query_output[['first_careunit','age_icu_in']] \\\n",
    "      .groupby('first_careunit').median()).T\n",
    "\n",
    "print('\\nLower quartile by careunit, years:\\n ')\n",
    "print(query_output[['first_careunit','age_icu_in']] \\\n",
    "      .groupby('first_careunit').quantile(0.25)).T\n",
    "\n",
    "print('\\nUpper quartile by careunit, years:\\n ')\n",
    "print(query_output[['first_careunit','age_icu_in']] \\\n",
    "      .groupby('first_careunit').quantile(0.75)).T\n"
   ]
  },
  {
   "cell_type": "markdown",
   "metadata": {},
   "source": [
    "### Gender, male, percent of unit stays"
   ]
  },
  {
   "cell_type": "code",
   "execution_count": 14,
   "metadata": {
    "collapsed": false
   },
   "outputs": [
    {
     "name": "stdout",
     "output_type": "stream",
     "text": [
      "Gender:\n",
      "\n",
      "gender\n",
      "F    21802\n",
      "M    27983\n",
      "Name: gender, dtype: int64\n",
      "gender\n",
      "F    43.792307\n",
      "M    56.207693\n",
      "Name: gender, dtype: float64\n",
      "Gender by careunit:\n",
      "\n",
      "first_careunit  gender\n",
      "CCU             F          3055\n",
      "                M          4203\n",
      "CSRU            F          3156\n",
      "                M          6000\n",
      "MICU            F          9577\n",
      "                M         10193\n",
      "SICU            F          3859\n",
      "                M          4251\n",
      "TSICU           F          2155\n",
      "                M          3336\n",
      "Name: gender, dtype: int64\n",
      "\n",
      "Proportion by unit:\n",
      "\n",
      "first_careunit  gender\n",
      "CCU             F         42.091485\n",
      "                M         57.908515\n",
      "CSRU            F         34.469201\n",
      "                M         65.530799\n",
      "MICU            F         48.442084\n",
      "                M         51.557916\n",
      "SICU            F         47.583231\n",
      "                M         52.416769\n",
      "TSICU           F         39.246039\n",
      "                M         60.753961\n",
      "Name: gender, dtype: float64\n"
     ]
    }
   ],
   "source": [
    "print('Gender:\\n')\n",
    "print(query_output.loc[query_output.icu_seq==1].groupby('gender').gender.count())\n",
    "print(query_output.loc[query_output.icu_seq==1].groupby('gender').gender.count() \\\n",
    "     /query_output.loc[query_output.icu_seq==1].gender.count()*100)\n",
    "\n",
    "print('Gender by careunit:\\n')\n",
    "print(query_output.loc[query_output.icu_seq==1] \\\n",
    "    .groupby(['first_careunit','gender']).gender.count())\n",
    "\n",
    "print('\\nProportion by unit:\\n')\n",
    "print(query_output.loc[query_output.icu_seq==1] \\\n",
    "    .groupby(['first_careunit','gender']) \\\n",
    "    .gender.count()/query_output.loc[query_output.icu_seq==1] \\\n",
    "    .groupby(['first_careunit']).gender.count())*100"
   ]
  },
  {
   "cell_type": "markdown",
   "metadata": {},
   "source": [
    "### ICU length of stay, median days (IQR)"
   ]
  },
  {
   "cell_type": "code",
   "execution_count": 15,
   "metadata": {
    "collapsed": false
   },
   "outputs": [
    {
     "name": "stdout",
     "output_type": "stream",
     "text": [
      "Median ICU length of stay, days: 2.14425\n",
      "Lower quartile ICU length of stay, days: 1.2056\n",
      "Upper quartile ICU length of stay, days: 4.19255\n",
      "\n",
      "Median length of ICU stay by careunit, days:\n",
      " \n",
      "first_careunit      CCU    CSRU    MICU    SICU   TSICU\n",
      "icu_los         2.19775  2.1549  2.0956  2.2522  2.1015\n",
      "\n",
      "Lower quartile length of ICU stay, days:\n",
      " \n",
      "first_careunit       CCU    CSRU    MICU     SICU   TSICU\n",
      "icu_los         1.213225  1.2162  1.1892  1.25155  1.1635\n",
      "\n",
      "Upper quartile length of ICU stay, days:\n",
      " \n",
      "first_careunit      CCU   CSRU    MICU    SICU   TSICU\n",
      "icu_los         4.14855  4.002  4.0958  4.9327  4.5853\n"
     ]
    }
   ],
   "source": [
    "print('Median ICU length of stay, days: {}').format(query_output.icu_los.median())\n",
    "print('Lower quartile ICU length of stay, days: {}') \\\n",
    "    .format(query_output.icu_los.quantile(0.25))\n",
    "print('Upper quartile ICU length of stay, days: {}\\n') \\\n",
    "    .format(query_output.icu_los.quantile(0.75))\n",
    "\n",
    "print('Median length of ICU stay by careunit, days:\\n ')\n",
    "print(query_output[['first_careunit','icu_los']] \\\n",
    "      .groupby('first_careunit').median()).T\n",
    "\n",
    "print('\\nLower quartile length of ICU stay, days:\\n ')\n",
    "print(query_output[['first_careunit','icu_los']] \\\n",
    "      .groupby('first_careunit').quantile(0.25)).T\n",
    "\n",
    "print('\\nUpper quartile length of ICU stay, days:\\n ')\n",
    "print(query_output[['first_careunit','icu_los']] \\\n",
    "      .groupby('first_careunit').quantile(0.75)).T\n"
   ]
  },
  {
   "cell_type": "markdown",
   "metadata": {},
   "source": [
    "### Hospital length of stay, median days (IQR)"
   ]
  },
  {
   "cell_type": "code",
   "execution_count": 16,
   "metadata": {
    "collapsed": false
   },
   "outputs": [
    {
     "name": "stdout",
     "output_type": "stream",
     "text": [
      "Median length of hospital stay, days: 6.9111\n",
      "Lower quartile length of hospital stay, days: 4.0264\n",
      "Upper quartile length of hospital stay, days: 11.9354\n",
      "\n",
      "Median length of hospital stay, days:\n",
      " \n",
      "first_careunit     CCU     CSRU    MICU    SICU   TSICU\n",
      "hosp_los        5.7576  7.37465  6.4229  7.9313  7.4472\n",
      "\n",
      "Lower quartile length of hospital stay, days:\n",
      " \n",
      "first_careunit       CCU    CSRU      MICU    SICU    TSICU\n",
      "hosp_los        3.105075  5.2396  3.673775  4.4146  4.07045\n",
      "\n",
      "Upper quartile length of hospital stay, days:\n",
      " \n",
      "first_careunit        CCU       CSRU      MICU       SICU     TSICU\n",
      "hosp_los        10.026225  11.351575  11.73025  14.240125  13.58505\n"
     ]
    }
   ],
   "source": [
    "# NB: hadm_id is repeated in data due to multiple ICU stays\n",
    "# ...so need to drop duplicates\n",
    "print('Median length of hospital stay, days: {}') \\\n",
    "    .format(query_output.drop_duplicates(['hadm_id']).hosp_los.median())\n",
    "print('Lower quartile length of hospital stay, days: {}') \\\n",
    "    .format(query_output.drop_duplicates(['hadm_id']).hosp_los.quantile(0.25))\n",
    "print('Upper quartile length of hospital stay, days: {}\\n') \\\n",
    "    .format(query_output.drop_duplicates(['hadm_id']).hosp_los.quantile(0.75))\n",
    "\n",
    "print('Median length of hospital stay, days:\\n ')\n",
    "print(query_output.drop_duplicates(['hadm_id']) \\\n",
    "      [['first_careunit','hosp_los']] \\\n",
    "      .groupby('first_careunit').median()).T\n",
    "\n",
    "print('\\nLower quartile length of hospital stay, days:\\n ')\n",
    "print(query_output.drop_duplicates(['hadm_id']) \\\n",
    "      [['first_careunit','hosp_los']] \\\n",
    "      .groupby('first_careunit').quantile(0.25)).T\n",
    "\n",
    "print('\\nUpper quartile length of hospital stay, days:\\n ')\n",
    "print(query_output.drop_duplicates(['hadm_id']) \\\n",
    "      [['first_careunit','hosp_los']] \\\n",
    "      .groupby('first_careunit').quantile(0.75)).T"
   ]
  },
  {
   "cell_type": "markdown",
   "metadata": {
    "collapsed": true
   },
   "source": [
    "### ICU mortality, percent of unit stays"
   ]
  },
  {
   "cell_type": "code",
   "execution_count": 17,
   "metadata": {
    "collapsed": false
   },
   "outputs": [
    {
     "name": "stdout",
     "output_type": "stream",
     "text": [
      "ICU mortality, number:\n",
      "\n",
      "icu_expire_flag\n",
      "0    48858\n",
      "1     4565\n",
      "Name: icu_expire_flag, dtype: int64\n",
      "\n",
      "ICU mortality, %:\n",
      "\n",
      "icu_expire_flag\n",
      "0    91.454991\n",
      "1     8.545009\n",
      "Name: icu_expire_flag, dtype: float64\n",
      "\n",
      "ICU mortality by careunit:\n",
      "\n",
      "first_careunit  icu_expire_flag\n",
      "CCU             0                   7041\n",
      "                1                    685\n",
      "CSRU            0                   9501\n",
      "                1                    353\n",
      "MICU            0                  18865\n",
      "                1                   2222\n",
      "SICU            0                   8078\n",
      "                1                    813\n",
      "TSICU           0                   5373\n",
      "                1                    492\n",
      "Name: icu_expire_flag, dtype: int64\n",
      "\n",
      "Proportion by unit:\n",
      "\n",
      "first_careunit  icu_expire_flag\n",
      "CCU             0                  91.133834\n",
      "                1                   8.866166\n",
      "CSRU            0                  96.417698\n",
      "                1                   3.582302\n",
      "MICU            0                  89.462702\n",
      "                1                  10.537298\n",
      "SICU            0                  90.855922\n",
      "                1                   9.144078\n",
      "TSICU           0                  91.611253\n",
      "                1                   8.388747\n",
      "Name: icu_expire_flag, dtype: float64\n"
     ]
    }
   ],
   "source": [
    "print('ICU mortality, number:\\n')\n",
    "print(query_output \\\n",
    "    .groupby(['icu_expire_flag']) \\\n",
    "    .icu_expire_flag.count())\n",
    "\n",
    "print('\\nICU mortality, %:\\n')\n",
    "print(query_output.groupby(['icu_expire_flag']) \\\n",
    "    .icu_expire_flag.count() / query_output.icu_expire_flag.count()*100)\n",
    "\n",
    "print('\\nICU mortality by careunit:\\n')\n",
    "print(query_output \\\n",
    "    .groupby(['first_careunit','icu_expire_flag']) \\\n",
    "    .icu_expire_flag.count())\n",
    "\n",
    "print('\\nProportion by unit:\\n')\n",
    "print(query_output \\\n",
    "    .groupby(['first_careunit','icu_expire_flag']) \\\n",
    "    .icu_expire_flag.count()/query_output \\\n",
    "    .groupby(['first_careunit']).icu_expire_flag.count())*100"
   ]
  },
  {
   "cell_type": "markdown",
   "metadata": {},
   "source": [
    "### Hospital mortality, percent of unit stays"
   ]
  },
  {
   "cell_type": "code",
   "execution_count": 18,
   "metadata": {
    "collapsed": false
   },
   "outputs": [
    {
     "name": "stdout",
     "output_type": "stream",
     "text": [
      "Hospital mortality, number:\n",
      "\n",
      "hospital_expire_flag\n",
      "0    44037\n",
      "1     5748\n",
      "Name: hospital_expire_flag, dtype: int64\n",
      "\n",
      "Hospital mortality, %:\n",
      "\n",
      "hospital_expire_flag\n",
      "0    88.454354\n",
      "1    11.545646\n",
      "Name: hospital_expire_flag, dtype: float64\n",
      "\n",
      "Hospital mortality:\n",
      "\n",
      "first_careunit  hospital_expire_flag\n",
      "CCU             0                        6441\n",
      "                1                         817\n",
      "CSRU            0                        8732\n",
      "                1                         424\n",
      "MICU            0                       16911\n",
      "                1                        2859\n",
      "SICU            0                        7090\n",
      "                1                        1020\n",
      "TSICU           0                        4863\n",
      "                1                         628\n",
      "Name: hospital_expire_flag, dtype: int64\n",
      "\n",
      "Proportion by unit:\n",
      "\n",
      "first_careunit  hospital_expire_flag\n",
      "CCU             0                       88.743455\n",
      "                1                       11.256545\n",
      "CSRU            0                       95.369157\n",
      "                1                        4.630843\n",
      "MICU            0                       85.538695\n",
      "                1                       14.461305\n",
      "SICU            0                       87.422935\n",
      "                1                       12.577065\n",
      "TSICU           0                       88.563103\n",
      "                1                       11.436897\n",
      "Name: hospital_expire_flag, dtype: float64\n"
     ]
    }
   ],
   "source": [
    "# NB: hadm_id is repeated in data due to multiple ICU stays\n",
    "# ...so need to drop duplicates\n",
    "print('Hospital mortality, number:\\n')\n",
    "print(query_output.drop_duplicates(['hadm_id']) \\\n",
    "    .groupby(['hospital_expire_flag']) \\\n",
    "    .hospital_expire_flag.count())\n",
    "\n",
    "print('\\nHospital mortality, %:\\n')\n",
    "print(query_output.drop_duplicates(['hadm_id']) \\\n",
    "    .groupby(['hospital_expire_flag']) \\\n",
    "    .hospital_expire_flag.count() \\\n",
    "    / query_output.drop_duplicates(['hadm_id']).hospital_expire_flag.count()*100)\n",
    "\n",
    "print('\\nHospital mortality:\\n')\n",
    "print(query_output.drop_duplicates(['hadm_id']) \\\n",
    "    .groupby(['first_careunit','hospital_expire_flag']) \\\n",
    "    .hospital_expire_flag.count())\n",
    "\n",
    "print('\\nProportion by unit:\\n')\n",
    "print(query_output.drop_duplicates(['hadm_id']) \\\n",
    "    .groupby(['first_careunit','hospital_expire_flag']) \\\n",
    "    .hospital_expire_flag.count()/query_output.drop_duplicates(['hadm_id']) \\\n",
    "    .groupby(['first_careunit']).hospital_expire_flag.count())*100"
   ]
  },
  {
   "cell_type": "markdown",
   "metadata": {},
   "source": [
    "## Table 3: Distribution of primary ICD-9 codes in MIMIC-II"
   ]
  },
  {
   "cell_type": "code",
   "execution_count": 19,
   "metadata": {
    "collapsed": false
   },
   "outputs": [],
   "source": [
    "# Connect to MIMIC\n",
    "con = psycopg2.connect(dbname=dbname, user=sqluser)\n",
    "cur = con.cursor()\n",
    "cur.execute('SET search_path to ' + schema_name)\n",
    "# cur.close()\n",
    "# con.close()"
   ]
  },
  {
   "cell_type": "code",
   "execution_count": 20,
   "metadata": {
    "collapsed": false
   },
   "outputs": [
    {
     "name": "stdout",
     "output_type": "stream",
     "text": [
      "   subject_id  hadm_id  icustay_id first_careunit  seq_num icd9_code  \\\n",
      "0           3   145834      211552           MICU        1      0389   \n",
      "1           4   185777      294638           MICU        1       042   \n",
      "2           6   107064      228232           SICU        1     40391   \n",
      "3           9   150750      220597           MICU        1       431   \n",
      "4          11   194540      229441           SICU        1      1913   \n",
      "\n",
      "  icd_first3  icd_first3_num  icd_first3_grp               short_title  \n",
      "0        038              38               0            Septicemia NOS  \n",
      "1        042              42               0    Human immuno virus dis  \n",
      "2        403             403               3    Hyp kid NOS w cr kid V  \n",
      "3        431             431               3  Intracerebral hemorrhage  \n",
      "4        191             191               1     Mal neo parietal lobe  \n"
     ]
    }
   ],
   "source": [
    "# ICD Diagnoses are associated with hospital admissions, not ICU stay\n",
    "# ...so select first ICU stay for breakdown.\n",
    "# Select patients >= 16 on first admission\n",
    "\n",
    "query = \\\n",
    "\"\"\"\n",
    "WITH diagnoses_icu AS (\n",
    "SELECT a.subject_id, a.hadm_id, i.icustay_id, \n",
    "    a.admittime as hosp_admittime, a.dischtime as hosp_dischtime, \n",
    "    i.first_careunit, \n",
    "    DENSE_RANK() over(PARTITION BY a.hadm_id ORDER BY i.intime ASC) as icu_seq,\n",
    "    p.dob, p.dod, i.intime as icu_intime, i.outtime as icu_outtime, \n",
    "    i.los as icu_los,\n",
    "    round((EXTRACT(EPOCH FROM (a.dischtime-a.admittime))/60/60/24) :: NUMERIC, 4) as hosp_los, \n",
    "    p.gender, \n",
    "    round((EXTRACT(EPOCH FROM (a.admittime-p.dob))/60/60/24/365.242) :: NUMERIC, 4) as age_hosp_in,\n",
    "    round((EXTRACT(EPOCH FROM (i.intime-p.dob))/60/60/24/365.242) :: NUMERIC, 4) as age_icu_in,\n",
    "    hospital_expire_flag,\n",
    "    CASE WHEN p.dod IS NOT NULL \n",
    "        AND p.dod >= i.intime - interval '6 hour'\n",
    "        AND p.dod <= i.outtime + interval '6 hour' THEN 1 \n",
    "        ELSE 0 END AS icu_expire_flag\n",
    "    FROM admissions a\n",
    "    INNER JOIN icustays i\n",
    "    ON a.hadm_id = i.hadm_id\n",
    "    INNER JOIN patients p\n",
    "    ON a.subject_id = p.subject_id\n",
    "    ORDER BY a.subject_id, i.intime)\n",
    "SELECT d.subject_id, d.hadm_id, d.icustay_id, d.first_careunit,\n",
    "    icd.seq_num, icd.icd9_code, left(icd.icd9_code,3) AS icd_first3, \n",
    "    CASE\n",
    "        WHEN lower(LEFT(icd.icd9_code,1)) = 'e' THEN NULL\n",
    "        WHEN lower(LEFT(icd.icd9_code,1)) = 'v' THEN NULL\n",
    "        ELSE CAST( LEFT(icd.icd9_code,3) AS INT) END AS icd_first3_num,\n",
    "    CASE \n",
    "        WHEN lower(LEFT(icd.icd9_code,1)) = 'e' THEN 9\n",
    "        WHEN lower(LEFT(icd.icd9_code,1)) = 'v' THEN 9\n",
    "        WHEN CAST( LEFT(icd.icd9_code,3) AS INT) >=0 \n",
    "            AND CAST( LEFT(icd.icd9_code,3) AS INT) <= 139 THEN 0\n",
    "        WHEN CAST( LEFT(icd.icd9_code,3) AS INT) >=140 \n",
    "            AND CAST( LEFT(icd.icd9_code,3) AS INT) <= 239 THEN 1\n",
    "        WHEN CAST( LEFT(icd.icd9_code,3) AS INT) >=240 \n",
    "            AND CAST( LEFT(icd.icd9_code,3) AS INT) <= 279 THEN 2\n",
    "        WHEN CAST( LEFT(icd.icd9_code,3) AS INT) >=390 \n",
    "            AND CAST( LEFT(icd.icd9_code,3) AS INT) <= 459 THEN 3\n",
    "        WHEN CAST( LEFT(icd.icd9_code,3) AS INT) >=460 \n",
    "            AND CAST( LEFT(icd.icd9_code,3) AS INT) <= 519 THEN 4\n",
    "        WHEN CAST( LEFT(icd.icd9_code,3) AS INT) >=520 \n",
    "            AND CAST( LEFT(icd.icd9_code,3) AS INT) <= 579 THEN 5\n",
    "        WHEN CAST( LEFT(icd.icd9_code,3) AS INT) >=580 \n",
    "            AND CAST( LEFT(icd.icd9_code,3) AS INT) <= 629 THEN 6\n",
    "        WHEN CAST( LEFT(icd.icd9_code,3) AS INT) >=800 \n",
    "            AND CAST( LEFT(icd.icd9_code,3) AS INT) <= 959 THEN 7\n",
    "        WHEN CAST( LEFT(icd.icd9_code,3) AS INT) >=960 \n",
    "            AND CAST( LEFT(icd.icd9_code,3) AS INT) <= 989 THEN 8\n",
    "        ELSE 9 END AS icd_first3_grp, \n",
    "    d_icd.short_title\n",
    "FROM diagnoses_icu d\n",
    "INNER JOIN diagnoses_icd icd\n",
    "    ON d.hadm_id = icd.hadm_id\n",
    "INNER JOIN d_icd_diagnoses d_icd\n",
    "    ON icd.icd9_code = d_icd.icd9_code\n",
    "WHERE seq_num =1\n",
    "    AND age_hosp_in >=16;\n",
    "\"\"\"\n",
    "\n",
    "query_output = pd.read_sql_query(query,con)\n",
    "print(query_output.head())"
   ]
  },
  {
   "cell_type": "markdown",
   "metadata": {},
   "source": [
    "### Most common ICD-9 codes"
   ]
  },
  {
   "cell_type": "code",
   "execution_count": 21,
   "metadata": {
    "collapsed": false
   },
   "outputs": [
    {
     "name": "stdout",
     "output_type": "stream",
     "text": [
      "Primary ICD diagnoses by frequency:\n",
      "\n",
      "41401    3496\n",
      "0389     2069\n",
      "41071    1751\n",
      "4241     1140\n",
      "51881    1127\n",
      "dtype: int64\n",
      "\n",
      "Primary ICD diagnoses, %:\n",
      "\n",
      "41401    7.122629\n",
      "0389     4.215309\n",
      "41071    3.567427\n",
      "4241     2.322596\n",
      "51881    2.296111\n",
      "dtype: float64\n"
     ]
    }
   ],
   "source": [
    "print('Primary ICD diagnoses by frequency:\\n')\n",
    "print(query_output.drop_duplicates(['hadm_id'])['icd9_code'].value_counts().head())\n",
    "\n",
    "print('\\nPrimary ICD diagnoses, %:\\n')\n",
    "print(query_output.drop_duplicates(['hadm_id'])['icd9_code'].value_counts().head() \\\n",
    "     /len(query_output.drop_duplicates(['hadm_id'])['icd9_code'])*100)"
   ]
  },
  {
   "cell_type": "markdown",
   "metadata": {},
   "source": [
    "### ICD-9 codes by careunit"
   ]
  },
  {
   "cell_type": "code",
   "execution_count": 22,
   "metadata": {
    "collapsed": false
   },
   "outputs": [
    {
     "name": "stdout",
     "output_type": "stream",
     "text": [
      "Primary ICD diagnoses by ICU stay:\n",
      "\n",
      "     CCU  CSRU   MICU  SICU  TSICU  Total\n",
      "0    305    72   3229   448    152   4206\n",
      "1    126   287   1415  1225    466   3519\n",
      "2    104    36    985   178     54   1357\n",
      "3   5131  7138   2638  2356    684  17947\n",
      "4    416   141   3393   390    225   4565\n",
      "5    264   157   3046  1193    440   5100\n",
      "6    130    14    738   101     31   1014\n",
      "7     97   494    480   836   2809   4716\n",
      "8     50     2    584    58     11    705\n",
      "9    565   739   2883  1204    563   5954\n",
      "10  7188  9080  19391  7989   5435  49083\n",
      "\n",
      "Proportion by careunit:\n",
      "\n",
      "          CCU       CSRU       MICU       SICU      TSICU       Total\n",
      "0    4.243183   0.792952  16.652055   5.607711   2.796688    8.569158\n",
      "1    1.752922   3.160793   7.297200  15.333584   8.574057    7.169488\n",
      "2    1.446856   0.396476   5.079676   2.228064   0.993560    2.764705\n",
      "3   71.382860  78.612335  13.604249  29.490550  12.585097   36.564595\n",
      "4    5.787423   1.552863  17.497808   4.881712   4.139834    9.300572\n",
      "5    3.672788   1.729075  15.708318  14.933033   8.095676   10.390563\n",
      "6    1.808570   0.154185   3.805889   1.264238   0.570377    2.065888\n",
      "7    1.349471   5.440529   2.475375  10.464389  51.683533    9.608215\n",
      "8    0.695604   0.022026   3.011706   0.725998   0.202392    1.436343\n",
      "9    7.860323   8.138767  14.867722  15.070722  10.358786   12.130473\n",
      "10  14.644582  18.499277  39.506550  16.276511  11.073080  100.000000\n"
     ]
    }
   ],
   "source": [
    "print('Primary ICD diagnoses by ICU stay:\\n')\n",
    "a=query_output.drop_duplicates(['hadm_id']).loc[query_output.first_careunit=='CCU']['icd_first3_grp'].value_counts()\n",
    "b=query_output.drop_duplicates(['hadm_id']).loc[query_output.first_careunit=='CSRU']['icd_first3_grp'].value_counts()\n",
    "c=query_output.drop_duplicates(['hadm_id']).loc[query_output.first_careunit=='MICU']['icd_first3_grp'].value_counts()\n",
    "d=query_output.drop_duplicates(['hadm_id']).loc[query_output.first_careunit=='SICU']['icd_first3_grp'].value_counts()\n",
    "e=query_output.drop_duplicates(['hadm_id']).loc[query_output.first_careunit=='TSICU']['icd_first3_grp'].value_counts()\n",
    "f=query_output.drop_duplicates(['hadm_id'])['icd_first3_grp'].value_counts()\n",
    "df_num=pd.concat([a,b,c,d,e,f],axis=1)\n",
    "df_num.fillna(value=0, inplace=True)\n",
    "df_num.columns = ['CCU', 'CSRU','MICU','SICU','TSICU','Total']\n",
    "# Append a totals row\n",
    "print(df_num.append(df_num.sum(), ignore_index=True))\n",
    "\n",
    "print('\\nProportion by careunit:\\n')\n",
    "a=(a/query_output.drop_duplicates(['hadm_id']).loc[query_output.first_careunit=='CCU']['icd_first3_grp'].count())*100\n",
    "b=(b/query_output.drop_duplicates(['hadm_id']).loc[query_output.first_careunit=='CSRU']['icd_first3_grp'].count())*100\n",
    "c=(c/query_output.drop_duplicates(['hadm_id']).loc[query_output.first_careunit=='MICU']['icd_first3_grp'].count())*100\n",
    "d=(d/query_output.drop_duplicates(['hadm_id']).loc[query_output.first_careunit=='SICU']['icd_first3_grp'].count())*100\n",
    "e=(e/query_output.drop_duplicates(['hadm_id']).loc[query_output.first_careunit=='TSICU']['icd_first3_grp'].count())*100\n",
    "f=(f/query_output.drop_duplicates(['hadm_id'])['icd_first3_grp'].count())*100\n",
    "df_percent=pd.concat([a,b,c,d,e,f],axis=1)\n",
    "df_percent.fillna(value=0, inplace=True)\n",
    "df_percent.columns = ['CCU', 'CSRU','MICU','SICU','TSICU','Total']\n",
    "# Append a totals row\n",
    "print(df_percent.append( df_num.sum() * 100 / df_num.Total.sum(), ignore_index=True))"
   ]
  },
  {
   "cell_type": "markdown",
   "metadata": {},
   "source": [
    "### Distribution of ICD codes, normalised by careunit"
   ]
  },
  {
   "cell_type": "code",
   "execution_count": 23,
   "metadata": {
    "collapsed": false
   },
   "outputs": [
    {
     "data": {
      "image/png": "[encoded data removed]",
      "text/plain": [
       "<matplotlib.figure.Figure at 0x10c01e550>"
      ]
     },
     "metadata": {},
     "output_type": "display_data"
    }
   ],
   "source": [
    "data = df_percent[['CCU', 'CSRU','MICU','SICU','TSICU']].values\n",
    "row_labels = list(['CCU', 'CSRU','MICU','SICU','TSICU'])\n",
    "column_labels = list(\n",
    "    ['Infectious and parasitic diseases',\n",
    "     'Neoplasms of digestive organs and intrathoracic organs, etc',\n",
    "     'Endocrine, nutritional, metabolic, and immunity',\n",
    "     'Diseases of the circulatory system',\n",
    "     'Pulmonary diseases',\n",
    "     'Diseases of the digestive system',\n",
    "     'Diseases of the genitourinary system',\n",
    "     'Trauma',\n",
    "     'Poisoning by drugs and biological substances',\n",
    "     'Other'])\n",
    "fig, ax = plt.subplots()\n",
    "heatmap = ax.pcolor(data, cmap=plt.cm.jet)\n",
    "\n",
    "# move labels to top\n",
    "ax.xaxis.tick_top()\n",
    "\n",
    "# put the major ticks at the middle of each cell\n",
    "ax.set_xticks(np.arange(data.shape[1])+0.5, minor=False)\n",
    "ax.set_yticks(np.arange(data.shape[0])+0.5, minor=False)\n",
    "\n",
    "ax.set_xticklabels(row_labels, minor=False)\n",
    "ax.set_yticklabels(column_labels, minor=False)\n",
    "plt.show()"
   ]
  },
  {
   "cell_type": "code",
   "execution_count": 24,
   "metadata": {
    "collapsed": false
   },
   "outputs": [
    {
     "name": "stdout",
     "output_type": "stream",
     "text": [
      "    CCU  CSRU  MICU  SICU  TSICU  Total\n",
      "0   305    72  3229   448    152   4206\n",
      "1   126   287  1415  1225    466   3519\n",
      "2   104    36   985   178     54   1357\n",
      "3  5131  7138  2638  2356    684  17947\n",
      "4   416   141  3393   390    225   4565\n",
      "5   264   157  3046  1193    440   5100\n",
      "6   130    14   738   101     31   1014\n",
      "7    97   494   480   836   2809   4716\n",
      "8    50     2   584    58     11    705\n",
      "9   565   739  2883  1204    563   5954\n"
     ]
    }
   ],
   "source": [
    "print df_num"
   ]
  },
  {
   "cell_type": "code",
   "execution_count": 25,
   "metadata": {
    "collapsed": false
   },
   "outputs": [
    {
     "data": {
      "text/plain": [
       "<matplotlib.axes._subplots.AxesSubplot at 0x10c478890>"
      ]
     },
     "execution_count": 25,
     "metadata": {},
     "output_type": "execute_result"
    },
    {
     "data": {
      "image/png": "[encoded data removed]",
      "text/plain": [
       "<matplotlib.figure.Figure at 0x10b28d590>"
      ]
     },
     "metadata": {},
     "output_type": "display_data"
    }
   ],
   "source": [
    "df_num.plot()"
   ]
  }
 ],
 "metadata": {
  "kernelspec": {
   "display_name": ".venv_thesis",
   "language": "python",
   "name": "python3"
  },
  "language_info": {
   "codemirror_mode": {
    "name": "ipython",
    "version": 3
   },
   "file_extension": ".py",
   "mimetype": "text/x-python",
   "name": "python",
   "nbconvert_exporter": "python",
   "pygments_lexer": "ipython3",
   "version": "3.12.3"
  }
 },
 "nbformat": 4,
 "nbformat_minor": 0
}
